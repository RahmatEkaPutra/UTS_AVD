{
  "cells": [
    {
      "cell_type": "markdown",
      "metadata": {
        "id": "view-in-github",
        "colab_type": "text"
      },
      "source": [
        "<a href=\"https://colab.research.google.com/github/RahmatEkaPutra/UTS_AVD/blob/main/Pokemon_Power_Analysis_Revisi.ipynb\" target=\"_parent\"><img src=\"https://colab.research.google.com/assets/colab-badge.svg\" alt=\"Open In Colab\"/></a>"
      ]
    },
    {
      "cell_type": "markdown",
      "id": "8f3d2be5",
      "metadata": {
        "id": "8f3d2be5"
      },
      "source": [
        "## Import Library\n",
        "Pada bagian ini, seluruh library yang dibutuhkan untuk analisis dan pemodelan machine learning diimpor, seperti pandas, numpy, matplotlib, seaborn, dan beberapa model dari scikit-learn."
      ]
    },
    {
      "cell_type": "code",
      "execution_count": 1,
      "id": "bufucOLkkrK-",
      "metadata": {
        "id": "bufucOLkkrK-"
      },
      "outputs": [],
      "source": [
        "# 1. Import Library\n",
        "import pandas as pd\n",
        "import numpy as np\n",
        "import matplotlib.pyplot as plt\n",
        "import seaborn as sns\n",
        "\n",
        "from sklearn.model_selection import train_test_split\n",
        "from sklearn.preprocessing import StandardScaler, LabelEncoder\n",
        "from sklearn.linear_model import LinearRegression\n",
        "from sklearn.naive_bayes import GaussianNB\n",
        "from sklearn.tree import DecisionTreeRegressor\n",
        "from sklearn.svm import SVR\n",
        "from sklearn.neighbors import KNeighborsRegressor\n",
        "from sklearn.metrics import mean_squared_error, r2_score"
      ]
    },
    {
      "cell_type": "markdown",
      "id": "33923c82",
      "metadata": {
        "id": "33923c82"
      },
      "source": [
        "## Load Dataset\n",
        "Dataset Pokémon dimuat menggunakan pandas, dan beberapa baris pertama ditampilkan untuk melihat struktur awal datanya."
      ]
    },
    {
      "cell_type": "code",
      "execution_count": 3,
      "id": "1b0bcfa1",
      "metadata": {
        "colab": {
          "base_uri": "https://localhost:8080/",
          "height": 206
        },
        "id": "1b0bcfa1",
        "outputId": "2116edde-36ab-43a7-b047-9915597b9de8"
      },
      "outputs": [
        {
          "output_type": "execute_result",
          "data": {
            "text/plain": [
              "   #                   Name Type 1  Type 2  Total  HP  Attack  Defense  \\\n",
              "0  1              Bulbasaur  Grass  Poison    318  45      49       49   \n",
              "1  2                Ivysaur  Grass  Poison    405  60      62       63   \n",
              "2  3               Venusaur  Grass  Poison    525  80      82       83   \n",
              "3  3  VenusaurMega Venusaur  Grass  Poison    625  80     100      123   \n",
              "4  4             Charmander   Fire     NaN    309  39      52       43   \n",
              "\n",
              "   Sp. Atk  Sp. Def  Speed  Generation  Legendary  \n",
              "0       65       65     45           1      False  \n",
              "1       80       80     60           1      False  \n",
              "2      100      100     80           1      False  \n",
              "3      122      120     80           1      False  \n",
              "4       60       50     65           1      False  "
            ],
            "text/html": [
              "\n",
              "  <div id=\"df-7d721740-7540-41a9-be9d-5ca63949c60f\" class=\"colab-df-container\">\n",
              "    <div>\n",
              "<style scoped>\n",
              "    .dataframe tbody tr th:only-of-type {\n",
              "        vertical-align: middle;\n",
              "    }\n",
              "\n",
              "    .dataframe tbody tr th {\n",
              "        vertical-align: top;\n",
              "    }\n",
              "\n",
              "    .dataframe thead th {\n",
              "        text-align: right;\n",
              "    }\n",
              "</style>\n",
              "<table border=\"1\" class=\"dataframe\">\n",
              "  <thead>\n",
              "    <tr style=\"text-align: right;\">\n",
              "      <th></th>\n",
              "      <th>#</th>\n",
              "      <th>Name</th>\n",
              "      <th>Type 1</th>\n",
              "      <th>Type 2</th>\n",
              "      <th>Total</th>\n",
              "      <th>HP</th>\n",
              "      <th>Attack</th>\n",
              "      <th>Defense</th>\n",
              "      <th>Sp. Atk</th>\n",
              "      <th>Sp. Def</th>\n",
              "      <th>Speed</th>\n",
              "      <th>Generation</th>\n",
              "      <th>Legendary</th>\n",
              "    </tr>\n",
              "  </thead>\n",
              "  <tbody>\n",
              "    <tr>\n",
              "      <th>0</th>\n",
              "      <td>1</td>\n",
              "      <td>Bulbasaur</td>\n",
              "      <td>Grass</td>\n",
              "      <td>Poison</td>\n",
              "      <td>318</td>\n",
              "      <td>45</td>\n",
              "      <td>49</td>\n",
              "      <td>49</td>\n",
              "      <td>65</td>\n",
              "      <td>65</td>\n",
              "      <td>45</td>\n",
              "      <td>1</td>\n",
              "      <td>False</td>\n",
              "    </tr>\n",
              "    <tr>\n",
              "      <th>1</th>\n",
              "      <td>2</td>\n",
              "      <td>Ivysaur</td>\n",
              "      <td>Grass</td>\n",
              "      <td>Poison</td>\n",
              "      <td>405</td>\n",
              "      <td>60</td>\n",
              "      <td>62</td>\n",
              "      <td>63</td>\n",
              "      <td>80</td>\n",
              "      <td>80</td>\n",
              "      <td>60</td>\n",
              "      <td>1</td>\n",
              "      <td>False</td>\n",
              "    </tr>\n",
              "    <tr>\n",
              "      <th>2</th>\n",
              "      <td>3</td>\n",
              "      <td>Venusaur</td>\n",
              "      <td>Grass</td>\n",
              "      <td>Poison</td>\n",
              "      <td>525</td>\n",
              "      <td>80</td>\n",
              "      <td>82</td>\n",
              "      <td>83</td>\n",
              "      <td>100</td>\n",
              "      <td>100</td>\n",
              "      <td>80</td>\n",
              "      <td>1</td>\n",
              "      <td>False</td>\n",
              "    </tr>\n",
              "    <tr>\n",
              "      <th>3</th>\n",
              "      <td>3</td>\n",
              "      <td>VenusaurMega Venusaur</td>\n",
              "      <td>Grass</td>\n",
              "      <td>Poison</td>\n",
              "      <td>625</td>\n",
              "      <td>80</td>\n",
              "      <td>100</td>\n",
              "      <td>123</td>\n",
              "      <td>122</td>\n",
              "      <td>120</td>\n",
              "      <td>80</td>\n",
              "      <td>1</td>\n",
              "      <td>False</td>\n",
              "    </tr>\n",
              "    <tr>\n",
              "      <th>4</th>\n",
              "      <td>4</td>\n",
              "      <td>Charmander</td>\n",
              "      <td>Fire</td>\n",
              "      <td>NaN</td>\n",
              "      <td>309</td>\n",
              "      <td>39</td>\n",
              "      <td>52</td>\n",
              "      <td>43</td>\n",
              "      <td>60</td>\n",
              "      <td>50</td>\n",
              "      <td>65</td>\n",
              "      <td>1</td>\n",
              "      <td>False</td>\n",
              "    </tr>\n",
              "  </tbody>\n",
              "</table>\n",
              "</div>\n",
              "    <div class=\"colab-df-buttons\">\n",
              "\n",
              "  <div class=\"colab-df-container\">\n",
              "    <button class=\"colab-df-convert\" onclick=\"convertToInteractive('df-7d721740-7540-41a9-be9d-5ca63949c60f')\"\n",
              "            title=\"Convert this dataframe to an interactive table.\"\n",
              "            style=\"display:none;\">\n",
              "\n",
              "  <svg xmlns=\"http://www.w3.org/2000/svg\" height=\"24px\" viewBox=\"0 -960 960 960\">\n",
              "    <path d=\"M120-120v-720h720v720H120Zm60-500h600v-160H180v160Zm220 220h160v-160H400v160Zm0 220h160v-160H400v160ZM180-400h160v-160H180v160Zm440 0h160v-160H620v160ZM180-180h160v-160H180v160Zm440 0h160v-160H620v160Z\"/>\n",
              "  </svg>\n",
              "    </button>\n",
              "\n",
              "  <style>\n",
              "    .colab-df-container {\n",
              "      display:flex;\n",
              "      gap: 12px;\n",
              "    }\n",
              "\n",
              "    .colab-df-convert {\n",
              "      background-color: #E8F0FE;\n",
              "      border: none;\n",
              "      border-radius: 50%;\n",
              "      cursor: pointer;\n",
              "      display: none;\n",
              "      fill: #1967D2;\n",
              "      height: 32px;\n",
              "      padding: 0 0 0 0;\n",
              "      width: 32px;\n",
              "    }\n",
              "\n",
              "    .colab-df-convert:hover {\n",
              "      background-color: #E2EBFA;\n",
              "      box-shadow: 0px 1px 2px rgba(60, 64, 67, 0.3), 0px 1px 3px 1px rgba(60, 64, 67, 0.15);\n",
              "      fill: #174EA6;\n",
              "    }\n",
              "\n",
              "    .colab-df-buttons div {\n",
              "      margin-bottom: 4px;\n",
              "    }\n",
              "\n",
              "    [theme=dark] .colab-df-convert {\n",
              "      background-color: #3B4455;\n",
              "      fill: #D2E3FC;\n",
              "    }\n",
              "\n",
              "    [theme=dark] .colab-df-convert:hover {\n",
              "      background-color: #434B5C;\n",
              "      box-shadow: 0px 1px 3px 1px rgba(0, 0, 0, 0.15);\n",
              "      filter: drop-shadow(0px 1px 2px rgba(0, 0, 0, 0.3));\n",
              "      fill: #FFFFFF;\n",
              "    }\n",
              "  </style>\n",
              "\n",
              "    <script>\n",
              "      const buttonEl =\n",
              "        document.querySelector('#df-7d721740-7540-41a9-be9d-5ca63949c60f button.colab-df-convert');\n",
              "      buttonEl.style.display =\n",
              "        google.colab.kernel.accessAllowed ? 'block' : 'none';\n",
              "\n",
              "      async function convertToInteractive(key) {\n",
              "        const element = document.querySelector('#df-7d721740-7540-41a9-be9d-5ca63949c60f');\n",
              "        const dataTable =\n",
              "          await google.colab.kernel.invokeFunction('convertToInteractive',\n",
              "                                                    [key], {});\n",
              "        if (!dataTable) return;\n",
              "\n",
              "        const docLinkHtml = 'Like what you see? Visit the ' +\n",
              "          '<a target=\"_blank\" href=https://colab.research.google.com/notebooks/data_table.ipynb>data table notebook</a>'\n",
              "          + ' to learn more about interactive tables.';\n",
              "        element.innerHTML = '';\n",
              "        dataTable['output_type'] = 'display_data';\n",
              "        await google.colab.output.renderOutput(dataTable, element);\n",
              "        const docLink = document.createElement('div');\n",
              "        docLink.innerHTML = docLinkHtml;\n",
              "        element.appendChild(docLink);\n",
              "      }\n",
              "    </script>\n",
              "  </div>\n",
              "\n",
              "\n",
              "<div id=\"df-20951a63-322a-4d25-9ce7-f2fb13e1c6f3\">\n",
              "  <button class=\"colab-df-quickchart\" onclick=\"quickchart('df-20951a63-322a-4d25-9ce7-f2fb13e1c6f3')\"\n",
              "            title=\"Suggest charts\"\n",
              "            style=\"display:none;\">\n",
              "\n",
              "<svg xmlns=\"http://www.w3.org/2000/svg\" height=\"24px\"viewBox=\"0 0 24 24\"\n",
              "     width=\"24px\">\n",
              "    <g>\n",
              "        <path d=\"M19 3H5c-1.1 0-2 .9-2 2v14c0 1.1.9 2 2 2h14c1.1 0 2-.9 2-2V5c0-1.1-.9-2-2-2zM9 17H7v-7h2v7zm4 0h-2V7h2v10zm4 0h-2v-4h2v4z\"/>\n",
              "    </g>\n",
              "</svg>\n",
              "  </button>\n",
              "\n",
              "<style>\n",
              "  .colab-df-quickchart {\n",
              "      --bg-color: #E8F0FE;\n",
              "      --fill-color: #1967D2;\n",
              "      --hover-bg-color: #E2EBFA;\n",
              "      --hover-fill-color: #174EA6;\n",
              "      --disabled-fill-color: #AAA;\n",
              "      --disabled-bg-color: #DDD;\n",
              "  }\n",
              "\n",
              "  [theme=dark] .colab-df-quickchart {\n",
              "      --bg-color: #3B4455;\n",
              "      --fill-color: #D2E3FC;\n",
              "      --hover-bg-color: #434B5C;\n",
              "      --hover-fill-color: #FFFFFF;\n",
              "      --disabled-bg-color: #3B4455;\n",
              "      --disabled-fill-color: #666;\n",
              "  }\n",
              "\n",
              "  .colab-df-quickchart {\n",
              "    background-color: var(--bg-color);\n",
              "    border: none;\n",
              "    border-radius: 50%;\n",
              "    cursor: pointer;\n",
              "    display: none;\n",
              "    fill: var(--fill-color);\n",
              "    height: 32px;\n",
              "    padding: 0;\n",
              "    width: 32px;\n",
              "  }\n",
              "\n",
              "  .colab-df-quickchart:hover {\n",
              "    background-color: var(--hover-bg-color);\n",
              "    box-shadow: 0 1px 2px rgba(60, 64, 67, 0.3), 0 1px 3px 1px rgba(60, 64, 67, 0.15);\n",
              "    fill: var(--button-hover-fill-color);\n",
              "  }\n",
              "\n",
              "  .colab-df-quickchart-complete:disabled,\n",
              "  .colab-df-quickchart-complete:disabled:hover {\n",
              "    background-color: var(--disabled-bg-color);\n",
              "    fill: var(--disabled-fill-color);\n",
              "    box-shadow: none;\n",
              "  }\n",
              "\n",
              "  .colab-df-spinner {\n",
              "    border: 2px solid var(--fill-color);\n",
              "    border-color: transparent;\n",
              "    border-bottom-color: var(--fill-color);\n",
              "    animation:\n",
              "      spin 1s steps(1) infinite;\n",
              "  }\n",
              "\n",
              "  @keyframes spin {\n",
              "    0% {\n",
              "      border-color: transparent;\n",
              "      border-bottom-color: var(--fill-color);\n",
              "      border-left-color: var(--fill-color);\n",
              "    }\n",
              "    20% {\n",
              "      border-color: transparent;\n",
              "      border-left-color: var(--fill-color);\n",
              "      border-top-color: var(--fill-color);\n",
              "    }\n",
              "    30% {\n",
              "      border-color: transparent;\n",
              "      border-left-color: var(--fill-color);\n",
              "      border-top-color: var(--fill-color);\n",
              "      border-right-color: var(--fill-color);\n",
              "    }\n",
              "    40% {\n",
              "      border-color: transparent;\n",
              "      border-right-color: var(--fill-color);\n",
              "      border-top-color: var(--fill-color);\n",
              "    }\n",
              "    60% {\n",
              "      border-color: transparent;\n",
              "      border-right-color: var(--fill-color);\n",
              "    }\n",
              "    80% {\n",
              "      border-color: transparent;\n",
              "      border-right-color: var(--fill-color);\n",
              "      border-bottom-color: var(--fill-color);\n",
              "    }\n",
              "    90% {\n",
              "      border-color: transparent;\n",
              "      border-bottom-color: var(--fill-color);\n",
              "    }\n",
              "  }\n",
              "</style>\n",
              "\n",
              "  <script>\n",
              "    async function quickchart(key) {\n",
              "      const quickchartButtonEl =\n",
              "        document.querySelector('#' + key + ' button');\n",
              "      quickchartButtonEl.disabled = true;  // To prevent multiple clicks.\n",
              "      quickchartButtonEl.classList.add('colab-df-spinner');\n",
              "      try {\n",
              "        const charts = await google.colab.kernel.invokeFunction(\n",
              "            'suggestCharts', [key], {});\n",
              "      } catch (error) {\n",
              "        console.error('Error during call to suggestCharts:', error);\n",
              "      }\n",
              "      quickchartButtonEl.classList.remove('colab-df-spinner');\n",
              "      quickchartButtonEl.classList.add('colab-df-quickchart-complete');\n",
              "    }\n",
              "    (() => {\n",
              "      let quickchartButtonEl =\n",
              "        document.querySelector('#df-20951a63-322a-4d25-9ce7-f2fb13e1c6f3 button');\n",
              "      quickchartButtonEl.style.display =\n",
              "        google.colab.kernel.accessAllowed ? 'block' : 'none';\n",
              "    })();\n",
              "  </script>\n",
              "</div>\n",
              "\n",
              "    </div>\n",
              "  </div>\n"
            ],
            "application/vnd.google.colaboratory.intrinsic+json": {
              "type": "dataframe",
              "variable_name": "df",
              "summary": "{\n  \"name\": \"df\",\n  \"rows\": 800,\n  \"fields\": [\n    {\n      \"column\": \"#\",\n      \"properties\": {\n        \"dtype\": \"number\",\n        \"std\": 208,\n        \"min\": 1,\n        \"max\": 721,\n        \"num_unique_values\": 721,\n        \"samples\": [\n          260,\n          659,\n          78\n        ],\n        \"semantic_type\": \"\",\n        \"description\": \"\"\n      }\n    },\n    {\n      \"column\": \"Name\",\n      \"properties\": {\n        \"dtype\": \"string\",\n        \"num_unique_values\": 800,\n        \"samples\": [\n          \"Hydreigon\",\n          \"Beheeyem\",\n          \"Growlithe\"\n        ],\n        \"semantic_type\": \"\",\n        \"description\": \"\"\n      }\n    },\n    {\n      \"column\": \"Type 1\",\n      \"properties\": {\n        \"dtype\": \"category\",\n        \"num_unique_values\": 18,\n        \"samples\": [\n          \"Grass\",\n          \"Fire\",\n          \"Fairy\"\n        ],\n        \"semantic_type\": \"\",\n        \"description\": \"\"\n      }\n    },\n    {\n      \"column\": \"Type 2\",\n      \"properties\": {\n        \"dtype\": \"category\",\n        \"num_unique_values\": 18,\n        \"samples\": [\n          \"Poison\",\n          \"Flying\",\n          \"Steel\"\n        ],\n        \"semantic_type\": \"\",\n        \"description\": \"\"\n      }\n    },\n    {\n      \"column\": \"Total\",\n      \"properties\": {\n        \"dtype\": \"number\",\n        \"std\": 119,\n        \"min\": 180,\n        \"max\": 780,\n        \"num_unique_values\": 200,\n        \"samples\": [\n          700,\n          349,\n          505\n        ],\n        \"semantic_type\": \"\",\n        \"description\": \"\"\n      }\n    },\n    {\n      \"column\": \"HP\",\n      \"properties\": {\n        \"dtype\": \"number\",\n        \"std\": 25,\n        \"min\": 1,\n        \"max\": 255,\n        \"num_unique_values\": 94,\n        \"samples\": [\n          106,\n          81,\n          170\n        ],\n        \"semantic_type\": \"\",\n        \"description\": \"\"\n      }\n    },\n    {\n      \"column\": \"Attack\",\n      \"properties\": {\n        \"dtype\": \"number\",\n        \"std\": 32,\n        \"min\": 5,\n        \"max\": 190,\n        \"num_unique_values\": 111,\n        \"samples\": [\n          79,\n          63,\n          52\n        ],\n        \"semantic_type\": \"\",\n        \"description\": \"\"\n      }\n    },\n    {\n      \"column\": \"Defense\",\n      \"properties\": {\n        \"dtype\": \"number\",\n        \"std\": 31,\n        \"min\": 5,\n        \"max\": 230,\n        \"num_unique_values\": 103,\n        \"samples\": [\n          20,\n          88,\n          23\n        ],\n        \"semantic_type\": \"\",\n        \"description\": \"\"\n      }\n    },\n    {\n      \"column\": \"Sp. Atk\",\n      \"properties\": {\n        \"dtype\": \"number\",\n        \"std\": 32,\n        \"min\": 10,\n        \"max\": 194,\n        \"num_unique_values\": 105,\n        \"samples\": [\n          58,\n          150,\n          160\n        ],\n        \"semantic_type\": \"\",\n        \"description\": \"\"\n      }\n    },\n    {\n      \"column\": \"Sp. Def\",\n      \"properties\": {\n        \"dtype\": \"number\",\n        \"std\": 27,\n        \"min\": 20,\n        \"max\": 230,\n        \"num_unique_values\": 92,\n        \"samples\": [\n          154,\n          45,\n          44\n        ],\n        \"semantic_type\": \"\",\n        \"description\": \"\"\n      }\n    },\n    {\n      \"column\": \"Speed\",\n      \"properties\": {\n        \"dtype\": \"number\",\n        \"std\": 29,\n        \"min\": 5,\n        \"max\": 180,\n        \"num_unique_values\": 108,\n        \"samples\": [\n          113,\n          50,\n          100\n        ],\n        \"semantic_type\": \"\",\n        \"description\": \"\"\n      }\n    },\n    {\n      \"column\": \"Generation\",\n      \"properties\": {\n        \"dtype\": \"number\",\n        \"std\": 1,\n        \"min\": 1,\n        \"max\": 6,\n        \"num_unique_values\": 6,\n        \"samples\": [\n          1,\n          2,\n          6\n        ],\n        \"semantic_type\": \"\",\n        \"description\": \"\"\n      }\n    },\n    {\n      \"column\": \"Legendary\",\n      \"properties\": {\n        \"dtype\": \"boolean\",\n        \"num_unique_values\": 2,\n        \"samples\": [\n          true,\n          false\n        ],\n        \"semantic_type\": \"\",\n        \"description\": \"\"\n      }\n    }\n  ]\n}"
            }
          },
          "metadata": {},
          "execution_count": 3
        }
      ],
      "source": [
        "# 2. Load Dataset\n",
        "\n",
        "# Membaca dataset dari file 'manga.csv' dan menyimpannya ke dalam DataFrame bernama df\n",
        "df = pd.read_csv('Pokemon.csv')\n",
        "\n",
        "# Menampilkan 5 baris pertama dari dataset untuk melihat struktur dan sampel datanya\n",
        "df.head()"
      ]
    },
    {
      "cell_type": "markdown",
      "id": "0e0a5523",
      "metadata": {
        "id": "0e0a5523"
      },
      "source": [
        "## Eksplorasi dan Pra-pemrosesan Data\n",
        "Pada tahap ini, dilakukan pembersihan dan persiapan dataset agar siap digunakan untuk proses machine learning. Langkah-langkah yang dilakukan antara lain:\n",
        "- Menampilkan informasi struktur dataset dan mendeteksi nilai yang hilang (missing values).\n",
        "- Menghapus kolom yang memiliki lebih dari 20% missing values.\n",
        "- Menghapus baris yang masih memiliki missing values setelah tahap sebelumnya.\n",
        "- Mengonversi kolom bertipe kategori menjadi format numerik menggunakan **LabelEncoder**, agar dapat dikenali oleh algoritma supervised learning."
      ]
    },
    {
      "cell_type": "code",
      "execution_count": 4,
      "id": "18adb01e",
      "metadata": {
        "colab": {
          "base_uri": "https://localhost:8080/"
        },
        "id": "18adb01e",
        "outputId": "9d9a66cb-c5ce-415d-f902-1ab8f4c8f635"
      },
      "outputs": [
        {
          "output_type": "stream",
          "name": "stdout",
          "text": [
            "Informasi Data:\n",
            "<class 'pandas.core.frame.DataFrame'>\n",
            "RangeIndex: 800 entries, 0 to 799\n",
            "Data columns (total 13 columns):\n",
            " #   Column      Non-Null Count  Dtype \n",
            "---  ------      --------------  ----- \n",
            " 0   #           800 non-null    int64 \n",
            " 1   Name        800 non-null    object\n",
            " 2   Type 1      800 non-null    object\n",
            " 3   Type 2      414 non-null    object\n",
            " 4   Total       800 non-null    int64 \n",
            " 5   HP          800 non-null    int64 \n",
            " 6   Attack      800 non-null    int64 \n",
            " 7   Defense     800 non-null    int64 \n",
            " 8   Sp. Atk     800 non-null    int64 \n",
            " 9   Sp. Def     800 non-null    int64 \n",
            " 10  Speed       800 non-null    int64 \n",
            " 11  Generation  800 non-null    int64 \n",
            " 12  Legendary   800 non-null    bool  \n",
            "dtypes: bool(1), int64(9), object(3)\n",
            "memory usage: 75.9+ KB\n",
            "None\n",
            "\n",
            "Cek Missing Values:\n",
            "#               0\n",
            "Name            0\n",
            "Type 1          0\n",
            "Type 2        386\n",
            "Total           0\n",
            "HP              0\n",
            "Attack          0\n",
            "Defense         0\n",
            "Sp. Atk         0\n",
            "Sp. Def         0\n",
            "Speed           0\n",
            "Generation      0\n",
            "Legendary       0\n",
            "dtype: int64\n"
          ]
        }
      ],
      "source": [
        "# 3. Eksplorasi dan Praproses Data\n",
        "\n",
        "# Menampilkan informasi umum tentang dataset, termasuk jumlah entri, tipe data, dan non-null count per kolom\n",
        "print(\"Informasi Data:\")\n",
        "print(df.info())\n",
        "\n",
        "# Menampilkan jumlah missing values (nilai kosong) pada setiap kolom\n",
        "print(\"\\nCek Missing Values:\")\n",
        "print(df.isnull().sum())\n",
        "\n",
        "# Menghapus kolom yang memiliki missing values lebih dari 20% total baris\n",
        "df = df.dropna(thresh=0.8*len(df), axis=1)\n",
        "\n",
        "# Menghapus seluruh baris yang masih memiliki missing values setelah proses sebelumnya\n",
        "df = df.dropna()\n",
        "\n",
        "# Melakukan encoding pada kolom-kolom bertipe kategorikal (object) menjadi numerik\n",
        "# Menggunakan LabelEncoder untuk mengubah nilai string menjadi angka\n",
        "label_encoders = {}\n",
        "for col in df.select_dtypes(include='object').columns:\n",
        "    le = LabelEncoder()\n",
        "    df[col] = le.fit_transform(df[col])\n",
        "    label_encoders[col] = le"
      ]
    },
    {
      "cell_type": "markdown",
      "id": "b41c6edb",
      "metadata": {
        "id": "b41c6edb"
      },
      "source": [
        "## Pisahkan Fitur dan Target\n",
        "Pada bagian ini, fitur (variabel input) dan target (variabel output) dipisahkan. Target yang digunakan adalah:\n",
        "- Untuk model regresi: kolom `Total`\n",
        "- Untuk model klasifikasi: kolom `Legendary`\n",
        "Fitur lainnya disimpan sebagai variabel input (X) dan target sebagai variabel output (y)."
      ]
    },
    {
      "cell_type": "markdown",
      "id": "63f90095",
      "metadata": {
        "id": "63f90095"
      },
      "source": [
        "## Standarisasi Data\n",
        "Karena beberapa algoritma seperti KNN dan SVM sensitif terhadap skala data, maka fitur-fitur numerik distandarisasi menggunakan `StandardScaler` untuk memastikan bahwa semua variabel memiliki skala yang sebanding."
      ]
    },
    {
      "cell_type": "code",
      "execution_count": 5,
      "id": "d311be99",
      "metadata": {
        "colab": {
          "base_uri": "https://localhost:8080/"
        },
        "id": "d311be99",
        "outputId": "d993e7a6-468e-4070-fbf9-de4cbc320d46"
      },
      "outputs": [
        {
          "output_type": "stream",
          "name": "stdout",
          "text": [
            "Ukuran fitur (X): (800, 11)\n",
            "Ukuran target (y): (800,)\n"
          ]
        }
      ],
      "source": [
        "# 4. Pisahkan fitur dan target\n",
        "\n",
        "# Memisahkan fitur (X) dan target (y) dari dataset\n",
        "# X berisi semua kolom kecuali 'Total', yang akan digunakan sebagai fitur input\n",
        "X = df.drop('Total', axis=1)\n",
        "# y berisi kolom 'Total', yang akan dijadikan target/output untuk prediksi\n",
        "y = df['Total']\n",
        "\n",
        "# Menampilkan bentuk (dimensi) dari X dan y untuk memastikan pemisahan berjalan dengan benar\n",
        "print(\"Ukuran fitur (X):\", X.shape)\n",
        "print(\"Ukuran target (y):\", y.shape)\n"
      ]
    },
    {
      "cell_type": "markdown",
      "id": "1b3f1e6c",
      "metadata": {
        "id": "1b3f1e6c"
      },
      "source": [
        "Kode ini memisahkan dataset menjadi dua bagian: X (fitur-fitur yang digunakan untuk memprediksi) dan y (target yang akan diprediksi, yaitu kolom 'Total'). Tidak ada output secara default karena hanya melakukan assignment. Untuk memastikan hasilnya benar, kita tambahkan print(X.shape) dan print(y.shape) agar terlihat jumlah baris dan kolom dari masing-masing bagian."
      ]
    },
    {
      "cell_type": "markdown",
      "id": "31684947",
      "metadata": {
        "id": "31684947"
      },
      "source": [
        "## Split data train dan test"
      ]
    },
    {
      "cell_type": "code",
      "execution_count": 6,
      "id": "ba1408f1",
      "metadata": {
        "colab": {
          "base_uri": "https://localhost:8080/"
        },
        "id": "ba1408f1",
        "outputId": "c1fe5ea5-8771-4b59-b1fe-438bffb3694d"
      },
      "outputs": [
        {
          "output_type": "stream",
          "name": "stdout",
          "text": [
            "Ukuran X_train: (640, 11)\n",
            "Ukuran X_test : (160, 11)\n",
            "Ukuran y_train: (640,)\n",
            "Ukuran y_test : (160,)\n"
          ]
        }
      ],
      "source": [
        "# 5. Split data train dan test\n",
        "\n",
        "#Memisahkan data menjadi data latih (train) dan data uji (test)\n",
        "X_train, X_test, y_train, y_test = train_test_split(X, y, test_size=0.2, random_state=42)\n",
        "\n",
        "# Menampilkan ukuran masing-masing data hasil split\n",
        "print(\"Ukuran X_train:\", X_train.shape)\n",
        "print(\"Ukuran X_test :\", X_test.shape)\n",
        "print(\"Ukuran y_train:\", y_train.shape)\n",
        "print(\"Ukuran y_test :\", y_test.shape)\n"
      ]
    },
    {
      "cell_type": "markdown",
      "id": "e707d95c",
      "metadata": {
        "id": "e707d95c"
      },
      "source": [
        "test_size=0.2 berarti 20% data akan digunakan untuk pengujian, sisanya 80% untuk pelatihan\n",
        "random_state=42 digunakan agar hasil pembagian data konsisten (reproducible)"
      ]
    },
    {
      "cell_type": "markdown",
      "id": "79c428e5",
      "metadata": {
        "id": "79c428e5"
      },
      "source": [
        "## Feature Scaling"
      ]
    },
    {
      "cell_type": "code",
      "execution_count": 7,
      "id": "4810e8af",
      "metadata": {
        "colab": {
          "base_uri": "https://localhost:8080/"
        },
        "id": "4810e8af",
        "outputId": "263e40be-b012-4cbc-e8ed-884ae5fc7ea0"
      },
      "outputs": [
        {
          "output_type": "stream",
          "name": "stdout",
          "text": [
            "Contoh hasil scaling (X_train):\n",
            "          #      Name    Type 1        HP    Attack   Defense   Sp. Atk  \\\n",
            "0 -0.558328  1.220840  1.366549  1.181025 -0.123949  1.343125  0.554977   \n",
            "1  0.943302 -1.078883 -0.588838  1.374210  1.887085 -0.565966 -1.308209   \n",
            "2 -0.277378  0.161417  1.188786 -0.750826  0.804220  1.661307 -0.531881   \n",
            "3 -0.228938  1.552448 -1.655413 -0.171271 -0.185827 -0.565966 -0.780306   \n",
            "4 -0.001272  1.673032  0.833261  0.987840 -1.732777 -0.788693 -1.525580   \n",
            "\n",
            "    Sp. Def     Speed  Generation  Legendary  \n",
            "0  1.583581  0.570478   -0.789593   3.261344  \n",
            "1 -0.576845  0.912658    1.028175  -0.306622  \n",
            "2  0.863439 -0.627152   -0.183670  -0.306622  \n",
            "3  0.143297  0.570478   -0.183670  -0.306622  \n",
            "4 -0.828894 -1.551038   -0.183670  -0.306622  \n"
          ]
        }
      ],
      "source": [
        "# 6. Feature Scaling\n",
        "\n",
        "# Melakukan standardisasi (scaling) pada fitur agar semua fitur berada pada skala yang sama\n",
        "# Ini penting agar model seperti SVM dan KNN bisa bekerja dengan lebih akurat\n",
        "\n",
        "scaler = StandardScaler()\n",
        "X_train_scaled = scaler.fit_transform(X_train)  # Menyesuaikan scaler dengan data latih, lalu transformasi\n",
        "X_test_scaled = scaler.transform(X_test)        # Transformasi data uji menggunakan scaler yang sama\n",
        "\n",
        "# Menampilkan contoh hasil scaling dari 5 baris pertama\n",
        "print(\"Contoh hasil scaling (X_train):\")\n",
        "print(pd.DataFrame(X_train_scaled, columns=X_train.columns).head())"
      ]
    },
    {
      "cell_type": "markdown",
      "id": "9892eabd",
      "metadata": {
        "id": "9892eabd"
      },
      "source": [
        "## Model Support Vector Machine (SVM)\n",
        "SVM digunakan untuk klasifikasi data dengan mencari hyperplane terbaik yang memisahkan data antar kelas. Dalam hal ini, SVM digunakan untuk memprediksi apakah Pokémon merupakan 'Legendary' atau bukan."
      ]
    },
    {
      "cell_type": "markdown",
      "id": "2c3614a9",
      "metadata": {
        "id": "2c3614a9"
      },
      "source": [
        "## Modeling dan Evaluasi"
      ]
    },
    {
      "cell_type": "code",
      "execution_count": 8,
      "id": "629fe7f1",
      "metadata": {
        "colab": {
          "base_uri": "https://localhost:8080/"
        },
        "id": "629fe7f1",
        "outputId": "cf214e65-72e1-4438-d476-56be382bb886"
      },
      "outputs": [
        {
          "output_type": "stream",
          "name": "stdout",
          "text": [
            "\n",
            "Model: Linear Regression\n",
            "Mean Squared Error: 0.00\n",
            "R2 Score: 1.00\n",
            "\n",
            "Model: Naive Bayes\n",
            "Mean Squared Error: 1953.67\n",
            "R2 Score: 0.86\n",
            "\n",
            "Model: Decision Tree\n",
            "Mean Squared Error: 2512.59\n",
            "R2 Score: 0.82\n",
            "\n",
            "Model: SVM\n",
            "Mean Squared Error: 6692.79\n",
            "R2 Score: 0.51\n",
            "\n",
            "Model: KNN\n",
            "Mean Squared Error: 844.17\n",
            "R2 Score: 0.94\n"
          ]
        }
      ],
      "source": [
        "# 7. Modeling dan Evaluasi\n",
        "\n",
        "# Membuat dictionary berisi 5 model supervised learning yang akan digunakan:\n",
        "models = {\n",
        "    'Linear Regression': LinearRegression(),\n",
        "    'Naive Bayes': GaussianNB(),\n",
        "    'Decision Tree': DecisionTreeRegressor(random_state=42),\n",
        "    'SVM': SVR(),\n",
        "    'KNN': KNeighborsRegressor()\n",
        "}\n",
        "\n",
        "# Dictionary untuk menyimpan hasil evaluasi tiap model\n",
        "results = {}\n",
        "\n",
        "# Melatih dan menguji setiap model dalam loop\n",
        "for name, model in models.items():\n",
        "    model.fit(X_train_scaled, y_train)                   # Melatih model dengan data latih\n",
        "    y_pred = model.predict(X_test_scaled)                # Memprediksi data uji\n",
        "    mse = mean_squared_error(y_test, y_pred)             # Menghitung error (MSE)\n",
        "    r2 = r2_score(y_test, y_pred)                        # Mengukur performa (R2 score)\n",
        "    results[name] = {'MSE': mse, 'R2': r2}               # Simpan hasil evaluasi\n",
        "    print(f\"\\nModel: {name}\")\n",
        "    print(f\"Mean Squared Error: {mse:.2f}\")\n",
        "    print(f\"R2 Score: {r2:.2f}\")"
      ]
    },
    {
      "cell_type": "markdown",
      "id": "7e8922d5",
      "metadata": {
        "id": "7e8922d5"
      },
      "source": [
        "Bagian ini melakukan pelatihan (fit), prediksi, dan evaluasi lima model machine learning berbeda. Setiap model diuji dengan data yang telah distandarisasi, lalu dihitung nilai error-nya menggunakan MSE (Mean Squared Error) dan seberapa baik model menjelaskan variansi data menggunakan R² Score. Hasil evaluasi ditampilkan ke layar dan disimpan dalam dictionary results untuk visualisasi atau analisis lebih lanjut."
      ]
    },
    {
      "cell_type": "markdown",
      "id": "f3c359f5",
      "metadata": {
        "id": "f3c359f5"
      },
      "source": [
        "## Visualisasi Hasil Evaluasi"
      ]
    },
    {
      "cell_type": "code",
      "execution_count": 9,
      "id": "666fd8e3",
      "metadata": {
        "colab": {
          "base_uri": "https://localhost:8080/",
          "height": 507
        },
        "id": "666fd8e3",
        "outputId": "3941a7a4-b39a-4693-dd8e-12c1735f10be"
      },
      "outputs": [
        {
          "output_type": "display_data",
          "data": {
            "text/plain": [
              "<Figure size 1000x500 with 2 Axes>"
            ],
            "image/png": "[encoded data removed]"
          },
          "metadata": {}
        }
      ],
      "source": [
        "# 8. Visualisasi Hasil Evaluasi\n",
        "\n",
        "# Mengubah dictionary hasil evaluasi ke dalam bentuk DataFrame dan mentranspose-nya\n",
        "# Sehingga model menjadi baris dan metrik (MSE, R2) menjadi kolom\n",
        "results_df = pd.DataFrame(results).T\n",
        "\n",
        "# Membuat figure dengan ukuran 10x5 inci dan membaginya menjadi 2 plot samping\n",
        "plt.figure(figsize=(10, 5))\n",
        "\n",
        "# Plot pertama: visualisasi Mean Squared Error untuk setiap model\n",
        "plt.subplot(1, 2, 1)\n",
        "sns.barplot(x=results_df.index, y='MSE', data=results_df)\n",
        "plt.title('MSE per Model')\n",
        "plt.xticks(rotation=45)  # Memiringkan label sumbu X agar mudah dibaca\n",
        "\n",
        "# Plot kedua: visualisasi R2 Score untuk setiap model\n",
        "plt.subplot(1, 2, 2)\n",
        "sns.barplot(x=results_df.index, y='R2', data=results_df)\n",
        "plt.title('R2 Score per Model')\n",
        "plt.xticks(rotation=45)\n",
        "\n",
        "# Menyesuaikan tata letak agar tidak saling menumpuk\n",
        "plt.tight_layout()\n",
        "plt.show()"
      ]
    },
    {
      "cell_type": "markdown",
      "id": "79642a07",
      "metadata": {
        "id": "79642a07"
      },
      "source": [
        "Kode ini menampilkan visualisasi perbandingan performa model berdasarkan dua metrik utama: MSE (semakin kecil semakin baik) dan R² Score (semakin mendekati 1 semakin baik). Hasil prediksi yang sebelumnya disimpan dalam dictionary results diubah ke dalam bentuk DataFrame agar bisa diplot dengan seaborn. Dengan grafik ini, kita bisa dengan mudah melihat model mana yang paling akurat dan efisien."
      ]
    },
    {
      "cell_type": "markdown",
      "id": "3fc84e5c",
      "metadata": {
        "id": "3fc84e5c"
      },
      "source": [
        "## Rekomendasi"
      ]
    },
    {
      "cell_type": "code",
      "execution_count": null,
      "id": "c7aa0425",
      "metadata": {
        "colab": {
          "base_uri": "https://localhost:8080/"
        },
        "id": "c7aa0425",
        "outputId": "606002f8-c237-4550-c087-6c132dc5112f"
      },
      "outputs": [
        {
          "name": "stdout",
          "output_type": "stream",
          "text": [
            "\n",
            "Rekomendasi:\n",
            "Model terbaik berdasarkan R2 adalah: Linear Regression dengan skor R2 1.00\n"
          ]
        }
      ],
      "source": [
        "# 9. Rekomendasi\n",
        "\n",
        "# Menampilkan rekomendasi model terbaik berdasarkan skor R² tertinggi\n",
        "print(\"\\nRekomendasi:\")\n",
        "\n",
        "# Mencari nama model dengan nilai R² paling tinggi\n",
        "best_model = results_df['R2'].idxmax()\n",
        "\n",
        "# Menampilkan nama model terbaik dan skor R²-nya\n",
        "print(f\"Model terbaik berdasarkan R2 adalah: {best_model} dengan skor R2 {results_df.loc[best_model, 'R2']:.2f}\")"
      ]
    },
    {
      "cell_type": "markdown",
      "id": "8983c425",
      "metadata": {
        "id": "8983c425"
      },
      "source": [
        "Bagian ini digunakan untuk memberikan rekomendasi akhir berdasarkan evaluasi model. Model dengan nilai R² tertinggi dianggap paling baik karena mampu menjelaskan variansi data target dengan paling akurat. Nilai R² tersebut ditampilkan bersama nama modelnya sebagai hasil akhir analisis."
      ]
    }
  ],
  "metadata": {
    "colab": {
      "provenance": [],
      "include_colab_link": true
    },
    "kernelspec": {
      "display_name": "Python 3",
      "language": "python",
      "name": "python3"
    },
    "language_info": {
      "codemirror_mode": {
        "name": "ipython",
        "version": 3
      },
      "file_extension": ".py",
      "mimetype": "text/x-python",
      "name": "python",
      "nbconvert_exporter": "python",
      "pygments_lexer": "ipython3",
      "version": "3.11.9"
    }
  },
  "nbformat": 4,
  "nbformat_minor": 5
}